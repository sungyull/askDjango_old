{
 "cells": [
  {
   "cell_type": "code",
   "execution_count": 1,
   "metadata": {},
   "outputs": [
    {
     "data": {
      "text/plain": [
       "blog.models.Post"
      ]
     },
     "execution_count": 1,
     "metadata": {},
     "output_type": "execute_result"
    }
   ],
   "source": [
    "Post"
   ]
  },
  {
   "cell_type": "code",
   "execution_count": 5,
   "metadata": {},
   "outputs": [
    {
     "data": {
      "text/plain": [
       "django.db.models.query.QuerySet"
      ]
     },
     "execution_count": 5,
     "metadata": {},
     "output_type": "execute_result"
    }
   ],
   "source": [
    "Post.objects.all().__class__\n",
    "\n"
   ]
  },
  {
   "cell_type": "code",
   "execution_count": 6,
   "metadata": {},
   "outputs": [
    {
     "data": {
      "text/plain": [
       "<QuerySet [<Post: Post object (1)>, <Post: Post object (2)>, <Post: Post object (3)>, <Post: Post object (4)>]>"
      ]
     },
     "execution_count": 6,
     "metadata": {},
     "output_type": "execute_result"
    }
   ],
   "source": [
    "Post.objects.all()"
   ]
  },
  {
   "cell_type": "code",
   "execution_count": 7,
   "metadata": {},
   "outputs": [
    {
     "data": {
      "text/plain": [
       "{'sql': 'SELECT \"blog_post\".\"id\", \"blog_post\".\"author\", \"blog_post\".\"title\", \"blog_post\".\"content\", \"blog_post\".\"tags\", \"blog_post\".\"lnglat\", \"blog_post\".\"status\", \"blog_post\".\"created_at\", \"blog_post\".\"updated_at\" FROM \"blog_post\" LIMIT 21',\n",
       " 'time': '0.001'}"
      ]
     },
     "execution_count": 7,
     "metadata": {},
     "output_type": "execute_result"
    }
   ],
   "source": [
    "from django.db import connection\n",
    "connection.queries[-1]"
   ]
  },
  {
   "cell_type": "code",
   "execution_count": 8,
   "metadata": {},
   "outputs": [],
   "source": [
    "Post??\n"
   ]
  },
  {
   "cell_type": "code",
   "execution_count": 9,
   "metadata": {},
   "outputs": [
    {
     "data": {
      "text/plain": [
       "<Post: Post object (5)>"
      ]
     },
     "execution_count": 9,
     "metadata": {},
     "output_type": "execute_result"
    }
   ],
   "source": [
    "Post.objects.create(author = 'lee', title='test1', content='etcetcetc...', status='d' )"
   ]
  },
  {
   "cell_type": "code",
   "execution_count": 1,
   "metadata": {},
   "outputs": [
    {
     "data": {
      "text/plain": [
       "<QuerySet [<Post: test1>]>"
      ]
     },
     "execution_count": 1,
     "metadata": {},
     "output_type": "execute_result"
    }
   ],
   "source": [
    "Post.objects.all().filter(title__icontains='test')"
   ]
  },
  {
   "cell_type": "code",
   "execution_count": 2,
   "metadata": {},
   "outputs": [
    {
     "data": {
      "text/plain": [
       "<QuerySet [<Post: [보고르Live] '실력으로 증명' 황의조 \"선수들 금메달 무게 잘 견뎌냈다\">, <Post: 유가령, 납치·감금·성폭행·나체 사진 언급 “그들을 용서한다”>, <Post: '트럼프 성토장' 된 매케인 장례식.. \"마지막 일침 남긴 메시지\">, <Post: 주말 벌초·나들이 행렬..고속도로 곳곳 밤까지 '혼잡'>, <Post: test1>]>"
      ]
     },
     "execution_count": 2,
     "metadata": {},
     "output_type": "execute_result"
    }
   ],
   "source": [
    "Post.objects.all()\n"
   ]
  },
  {
   "cell_type": "code",
   "execution_count": 4,
   "metadata": {},
   "outputs": [
    {
     "name": "stdout",
     "output_type": "stream",
     "text": [
      "[보고르Live] '실력으로 증명' 황의조 \"선수들 금메달 무게 잘 견뎌냈다\"\n",
      "유가령, 납치·감금·성폭행·나체 사진 언급 “그들을 용서한다”\n",
      "'트럼프 성토장' 된 매케인 장례식.. \"마지막 일침 남긴 메시지\"\n",
      "주말 벌초·나들이 행렬..고속도로 곳곳 밤까지 '혼잡'\n",
      "test1\n"
     ]
    }
   ],
   "source": [
    "for post in Post.objects.all():\n",
    "    print (post)"
   ]
  },
  {
   "cell_type": "code",
   "execution_count": 8,
   "metadata": {},
   "outputs": [],
   "source": [
    "import random\n",
    "\n",
    "for i in range(1000):\n",
    "    status = random.choice(['d','p','w'])\n",
    "    Post.objects.create(author = 'lsy', title='test#{}'.format(i),\n",
    "                        content='Test 내용.. etcetcetc...',\n",
    "                        status=status )\n",
    "    "
   ]
  },
  {
   "cell_type": "code",
   "execution_count": 9,
   "metadata": {},
   "outputs": [
    {
     "data": {
      "text/plain": [
       "1005"
      ]
     },
     "execution_count": 9,
     "metadata": {},
     "output_type": "execute_result"
    }
   ],
   "source": [
    "Post.objects.all().count()\n"
   ]
  },
  {
   "cell_type": "code",
   "execution_count": 16,
   "metadata": {},
   "outputs": [
    {
     "name": "stdout",
     "output_type": "stream",
     "text": [
      "<QuerySet [<Post: test#12>, <Post: test#21>, <Post: test#102>, <Post: test#112>, <Post: test#120>, <Post: test#121>, <Post: test#122>, <Post: test#123>, <Post: test#124>, <Post: test#125>, <Post: test#126>, <Post: test#127>, <Post: test#128>, <Post: test#129>, <Post: test#132>, <Post: test#142>, <Post: test#152>, <Post: test#162>, <Post: test#172>, <Post: test#182>, '...(remaining elements truncated)...']>\n"
     ]
    }
   ],
   "source": [
    "qs = Post.objects.filter(title__icontains='1')\n",
    "qs = qs.filter(title__icontains='2')\n",
    "print (qs)"
   ]
  },
  {
   "cell_type": "code",
   "execution_count": 17,
   "metadata": {},
   "outputs": [
    {
     "name": "stdout",
     "output_type": "stream",
     "text": [
      "<QuerySet [<Post: test#88>, <Post: test#99>, <Post: test#188>, <Post: test#199>, <Post: test#288>, <Post: test#299>, <Post: test#388>, <Post: test#399>, <Post: test#488>, <Post: test#499>, <Post: test#588>, <Post: test#599>, <Post: test#688>, <Post: test#699>, <Post: test#788>, <Post: test#799>, <Post: test#880>, <Post: test#881>, <Post: test#882>, <Post: test#883>, '...(remaining elements truncated)...']>\n"
     ]
    }
   ],
   "source": [
    "from django.db.models import Q\n",
    "\n",
    "qs = Post.objects.all()\n",
    "qs = qs.filter(Q(title__icontains = '99') | Q(title__icontains = '88') )\n",
    "print (qs)"
   ]
  },
  {
   "cell_type": "code",
   "execution_count": null,
   "metadata": {},
   "outputs": [],
   "source": []
  }
 ],
 "metadata": {
  "kernelspec": {
   "display_name": "Django Shell-Plus",
   "language": "python",
   "name": "django_extensions"
  },
  "language_info": {
   "codemirror_mode": {
    "name": "ipython",
    "version": 3
   },
   "file_extension": ".py",
   "mimetype": "text/x-python",
   "name": "python",
   "nbconvert_exporter": "python",
   "pygments_lexer": "ipython3",
   "version": "3.6.5"
  }
 },
 "nbformat": 4,
 "nbformat_minor": 2
}
